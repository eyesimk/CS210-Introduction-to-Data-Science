{
 "cells": [
  {
   "cell_type": "markdown",
   "metadata": {},
   "source": [
    "                                                                                                 Ece Yesim Kebabci - 25097"
   ]
  },
  {
   "cell_type": "code",
   "execution_count": 1,
   "metadata": {},
   "outputs": [],
   "source": [
    "import pandas as pd  \n",
    "import numpy as np\n",
    "import matplotlib.pyplot as plt\n",
    "import reverse_geocoder as rg\n",
    "import matplotlib.pyplot as plt\n",
    "import seaborn as sns\n",
    "sns.set_style(\"darkgrid\")\n",
    "from scipy import stats\n",
    "from os.path import join\n",
    "from geopy.distance import geodesic\n",
    "import warnings \n",
    "warnings.simplefilter('ignore')\n",
    "\n",
    "%matplotlib inline"
   ]
  },
  {
   "cell_type": "code",
   "execution_count": 2,
   "metadata": {},
   "outputs": [],
   "source": [
    "from os.path import join\n",
    "from pprint import pprint"
   ]
  },
  {
   "cell_type": "code",
   "execution_count": 3,
   "metadata": {},
   "outputs": [],
   "source": [
    "d_path = \"./\"\n",
    "d_file = \"taxi-trips.csv\""
   ]
  },
  {
   "cell_type": "code",
   "execution_count": 4,
   "metadata": {
    "scrolled": true
   },
   "outputs": [],
   "source": [
    "df = pd.read_csv(join(d_path, d_file))\n"
   ]
  },
  {
   "cell_type": "markdown",
   "metadata": {},
   "source": [
    "# New York City - Taxi Trips Dataset"
   ]
  },
  {
   "cell_type": "markdown",
   "metadata": {},
   "source": [
    "### Purpose of Project"
   ]
  },
  {
   "cell_type": "markdown",
   "metadata": {},
   "source": [
    "The main purpose of that project is to explore and analyze the dataset which includes taxi trips in a span\n",
    "of two weeks in New York City.\n",
    "This project consist of two main parts; data exploration and hypothesis testing."
   ]
  },
  {
   "cell_type": "markdown",
   "metadata": {},
   "source": [
    "## Data Exploration"
   ]
  },
  {
   "cell_type": "markdown",
   "metadata": {},
   "source": [
    " In this part of the project there will be basic informations regarding to the data set such as  shape, data types and descriptive statistics which will be followed by extracting and presenting insights about the data."
   ]
  },
  {
   "cell_type": "markdown",
   "metadata": {},
   "source": [
    "-  The dataset has 118185 rows and 11 columns."
   ]
  },
  {
   "cell_type": "code",
   "execution_count": 5,
   "metadata": {
    "scrolled": false
   },
   "outputs": [
    {
     "data": {
      "text/plain": [
       "(118185, 11)"
      ]
     },
     "execution_count": 5,
     "metadata": {},
     "output_type": "execute_result"
    }
   ],
   "source": [
    "df.shape"
   ]
  },
  {
   "cell_type": "markdown",
   "metadata": {},
   "source": [
    "-  The descriptive statistics of the data set are shown below."
   ]
  },
  {
   "cell_type": "code",
   "execution_count": 6,
   "metadata": {},
   "outputs": [
    {
     "data": {
      "text/html": [
       "<div>\n",
       "<style scoped>\n",
       "    .dataframe tbody tr th:only-of-type {\n",
       "        vertical-align: middle;\n",
       "    }\n",
       "\n",
       "    .dataframe tbody tr th {\n",
       "        vertical-align: top;\n",
       "    }\n",
       "\n",
       "    .dataframe thead th {\n",
       "        text-align: right;\n",
       "    }\n",
       "</style>\n",
       "<table border=\"1\" class=\"dataframe\">\n",
       "  <thead>\n",
       "    <tr style=\"text-align: right;\">\n",
       "      <th></th>\n",
       "      <th>vendor_id</th>\n",
       "      <th>passenger_count</th>\n",
       "      <th>pickup_longitude</th>\n",
       "      <th>pickup_latitude</th>\n",
       "      <th>dropoff_longitude</th>\n",
       "      <th>dropoff_latitude</th>\n",
       "      <th>trip_duration</th>\n",
       "    </tr>\n",
       "  </thead>\n",
       "  <tbody>\n",
       "    <tr>\n",
       "      <th>count</th>\n",
       "      <td>118185.000000</td>\n",
       "      <td>118185.000000</td>\n",
       "      <td>118185.000000</td>\n",
       "      <td>118185.000000</td>\n",
       "      <td>118185.000000</td>\n",
       "      <td>118185.000000</td>\n",
       "      <td>118185.000000</td>\n",
       "    </tr>\n",
       "    <tr>\n",
       "      <th>mean</th>\n",
       "      <td>1.534958</td>\n",
       "      <td>1.657148</td>\n",
       "      <td>-73.973971</td>\n",
       "      <td>40.751392</td>\n",
       "      <td>-73.973538</td>\n",
       "      <td>40.752212</td>\n",
       "      <td>927.186310</td>\n",
       "    </tr>\n",
       "    <tr>\n",
       "      <th>std</th>\n",
       "      <td>0.498779</td>\n",
       "      <td>1.313844</td>\n",
       "      <td>0.040456</td>\n",
       "      <td>0.027958</td>\n",
       "      <td>0.039192</td>\n",
       "      <td>0.032284</td>\n",
       "      <td>3118.710246</td>\n",
       "    </tr>\n",
       "    <tr>\n",
       "      <th>min</th>\n",
       "      <td>1.000000</td>\n",
       "      <td>0.000000</td>\n",
       "      <td>-79.487900</td>\n",
       "      <td>40.225803</td>\n",
       "      <td>-79.487900</td>\n",
       "      <td>40.225800</td>\n",
       "      <td>1.000000</td>\n",
       "    </tr>\n",
       "    <tr>\n",
       "      <th>25%</th>\n",
       "      <td>1.000000</td>\n",
       "      <td>1.000000</td>\n",
       "      <td>-73.991875</td>\n",
       "      <td>40.737835</td>\n",
       "      <td>-73.991394</td>\n",
       "      <td>40.736462</td>\n",
       "      <td>393.000000</td>\n",
       "    </tr>\n",
       "    <tr>\n",
       "      <th>50%</th>\n",
       "      <td>2.000000</td>\n",
       "      <td>1.000000</td>\n",
       "      <td>-73.981796</td>\n",
       "      <td>40.754501</td>\n",
       "      <td>-73.979759</td>\n",
       "      <td>40.754848</td>\n",
       "      <td>652.000000</td>\n",
       "    </tr>\n",
       "    <tr>\n",
       "      <th>75%</th>\n",
       "      <td>2.000000</td>\n",
       "      <td>2.000000</td>\n",
       "      <td>-73.967575</td>\n",
       "      <td>40.768471</td>\n",
       "      <td>-73.962990</td>\n",
       "      <td>40.770077</td>\n",
       "      <td>1048.000000</td>\n",
       "    </tr>\n",
       "    <tr>\n",
       "      <th>max</th>\n",
       "      <td>2.000000</td>\n",
       "      <td>6.000000</td>\n",
       "      <td>-73.425018</td>\n",
       "      <td>41.292198</td>\n",
       "      <td>-73.055977</td>\n",
       "      <td>41.292198</td>\n",
       "      <td>86366.000000</td>\n",
       "    </tr>\n",
       "  </tbody>\n",
       "</table>\n",
       "</div>"
      ],
      "text/plain": [
       "           vendor_id  passenger_count  pickup_longitude  pickup_latitude  \\\n",
       "count  118185.000000    118185.000000     118185.000000    118185.000000   \n",
       "mean        1.534958         1.657148        -73.973971        40.751392   \n",
       "std         0.498779         1.313844          0.040456         0.027958   \n",
       "min         1.000000         0.000000        -79.487900        40.225803   \n",
       "25%         1.000000         1.000000        -73.991875        40.737835   \n",
       "50%         2.000000         1.000000        -73.981796        40.754501   \n",
       "75%         2.000000         2.000000        -73.967575        40.768471   \n",
       "max         2.000000         6.000000        -73.425018        41.292198   \n",
       "\n",
       "       dropoff_longitude  dropoff_latitude  trip_duration  \n",
       "count      118185.000000     118185.000000  118185.000000  \n",
       "mean          -73.973538         40.752212     927.186310  \n",
       "std             0.039192          0.032284    3118.710246  \n",
       "min           -79.487900         40.225800       1.000000  \n",
       "25%           -73.991394         40.736462     393.000000  \n",
       "50%           -73.979759         40.754848     652.000000  \n",
       "75%           -73.962990         40.770077    1048.000000  \n",
       "max           -73.055977         41.292198   86366.000000  "
      ]
     },
     "execution_count": 6,
     "metadata": {},
     "output_type": "execute_result"
    }
   ],
   "source": [
    "df.describe()"
   ]
  },
  {
   "cell_type": "markdown",
   "metadata": {},
   "source": [
    "- The data types that are included in the data set are shown below."
   ]
  },
  {
   "cell_type": "code",
   "execution_count": 7,
   "metadata": {},
   "outputs": [
    {
     "data": {
      "text/plain": [
       "id                     object\n",
       "vendor_id               int64\n",
       "pickup_datetime        object\n",
       "dropoff_datetime       object\n",
       "passenger_count         int64\n",
       "pickup_longitude      float64\n",
       "pickup_latitude       float64\n",
       "dropoff_longitude     float64\n",
       "dropoff_latitude      float64\n",
       "store_and_fwd_flag     object\n",
       "trip_duration           int64\n",
       "dtype: object"
      ]
     },
     "execution_count": 7,
     "metadata": {},
     "output_type": "execute_result"
    }
   ],
   "source": [
    "df.dtypes"
   ]
  },
  {
   "cell_type": "code",
   "execution_count": 8,
   "metadata": {},
   "outputs": [
    {
     "name": "stdout",
     "output_type": "stream",
     "text": [
      "Loading formatted geocoded file...\n"
     ]
    }
   ],
   "source": [
    "pickup_coords = df[['pickup_latitude', 'pickup_longitude']].apply(tuple, axis=1).tolist()\n",
    "dropoff_coords = df[['dropoff_latitude', 'dropoff_longitude']].apply(tuple, axis=1).tolist()\n",
    "\n",
    "pickup_results = rg.search(pickup_coords, mode=2)\n",
    "df['pickup_district'] = [x['name'] for x in pickup_results]\n",
    "\n",
    "dropoff_results = rg.search(dropoff_coords, mode=2)\n",
    "df['dropoff_district'] = [x['name'] for x in dropoff_results]"
   ]
  },
  {
   "cell_type": "code",
   "execution_count": 9,
   "metadata": {},
   "outputs": [
    {
     "data": {
      "text/plain": [
       "Manhattan           45329\n",
       "New York City       34625\n",
       "Long Island City    17787\n",
       "Weehawken           11334\n",
       "The Bronx            2777\n",
       "Name: pickup_district, dtype: int64"
      ]
     },
     "execution_count": 9,
     "metadata": {},
     "output_type": "execute_result"
    }
   ],
   "source": [
    "df.pickup_district.value_counts().head(5)"
   ]
  },
  {
   "cell_type": "code",
   "execution_count": 10,
   "metadata": {
    "scrolled": false
   },
   "outputs": [
    {
     "data": {
      "text/plain": [
       "Manhattan           44478\n",
       "New York City       31082\n",
       "Long Island City    19919\n",
       "Weehawken           10621\n",
       "Brooklyn             2059\n",
       "Name: dropoff_district, dtype: int64"
      ]
     },
     "execution_count": 10,
     "metadata": {},
     "output_type": "execute_result"
    }
   ],
   "source": [
    "df.dropoff_district.value_counts().head(5)"
   ]
  },
  {
   "cell_type": "code",
   "execution_count": 11,
   "metadata": {},
   "outputs": [],
   "source": [
    "def distance(row):\n",
    "    \n",
    "    plo = row [\"pickup_longitude\"]\n",
    "    pla = row [\"pickup_latitude\"]\n",
    "    dla = row [\"dropoff_latitude\"]\n",
    "    dlo = row [\"dropoff_longitude\"]\n",
    "    \n",
    "    pickup_coor =(pla,plo)\n",
    "    dropof_coor =(dla,dlo)\n",
    "    \n",
    "    distance = (geodesic(pickup_coor,dropof_coor).miles)\n",
    " \n",
    "    return distance\n",
    "\n",
    "\n",
    "df[\"distance\"]= df.apply(distance, axis=1)"
   ]
  },
  {
   "cell_type": "code",
   "execution_count": 12,
   "metadata": {},
   "outputs": [],
   "source": [
    "def timeofday(time):\n",
    "\n",
    "    t_interval = int(time[10:13])\n",
    "    \n",
    "    \n",
    "    if t_interval > 7 and t_interval < 9:\n",
    "        return \"rush hour morning\"\n",
    "    \n",
    "    elif t_interval > 9 and t_interval < 16:\n",
    "        return \"afternoon\"\n",
    "    \n",
    "    elif t_interval > 16 and t_interval < 18:\n",
    "        return \"rush hour evening\"\n",
    "    \n",
    "    elif t_interval > 18 and t_interval < 23:\n",
    "        return \"evening\"\n",
    "    \n",
    "    else:\n",
    "        return \"late night\"\n",
    "\n",
    "df[\"time_of_day\"] = df[\"pickup_datetime\"].apply(timeofday) \n"
   ]
  },
  {
   "cell_type": "code",
   "execution_count": 13,
   "metadata": {},
   "outputs": [
    {
     "name": "stdout",
     "output_type": "stream",
     "text": [
      "time_of_day\n",
      "afternoon            1.952622\n",
      "evening              2.163333\n",
      "late night           2.246445\n",
      "rush hour evening    2.056270\n",
      "rush hour morning    1.805397\n",
      "Name: distance, dtype: float64\n"
     ]
    }
   ],
   "source": [
    "averagedist = df.groupby(by=\"time_of_day\").mean()[\"distance\"]\n",
    "print(averagedist)   "
   ]
  },
  {
   "cell_type": "code",
   "execution_count": 14,
   "metadata": {},
   "outputs": [
    {
     "data": {
      "image/png": "[encoded data removed]",
      "text/plain": [
       "<Figure size 432x288 with 1 Axes>"
      ]
     },
     "metadata": {
      "needs_background": "light"
     },
     "output_type": "display_data"
    }
   ],
   "source": [
    "graph = averagedist.plot(kind=\"bar\",\n",
    "                   color=\"pink\",\n",
    "                   rot=70)\n",
    "       \n",
    "\n",
    "plt.ylabel(\"Avg. Distance\")\n",
    "plt.title(\"Time of Day vs Distance\")\n",
    "plt.xlabel(\"Time of Day\")\n",
    "plt.show()"
   ]
  },
  {
   "cell_type": "code",
   "execution_count": 15,
   "metadata": {},
   "outputs": [
    {
     "name": "stdout",
     "output_type": "stream",
     "text": [
      "time_of_day\n",
      "afternoon            965.278183\n",
      "evening              881.118012\n",
      "late night           909.032137\n",
      "rush hour evening    993.963070\n",
      "rush hour morning    991.779339\n",
      "Name: trip_duration, dtype: float64\n"
     ]
    }
   ],
   "source": [
    "averagedist = df.groupby(by=\"time_of_day\").mean()[\"trip_duration\"]\n",
    "print(averagedist)  "
   ]
  },
  {
   "cell_type": "code",
   "execution_count": 16,
   "metadata": {},
   "outputs": [
    {
     "data": {
      "image/png": "[encoded data removed]",
      "text/plain": [
       "<Figure size 432x288 with 1 Axes>"
      ]
     },
     "metadata": {
      "needs_background": "light"
     },
     "output_type": "display_data"
    }
   ],
   "source": [
    "graph = averagedist.plot(kind=\"bar\",\n",
    "                   color=\"cyan\",\n",
    "                   rot=70)\n",
    "       \n",
    "\n",
    "plt.ylabel(\"Avg. Trip Duration\")\n",
    "plt.title(\"Time of Day vs Duration\")\n",
    "plt.xlabel(\"Time of Day\")\n",
    "plt.show()"
   ]
  },
  {
   "cell_type": "markdown",
   "metadata": {},
   "source": [
    "## Hypothesis Testing"
   ]
  },
  {
   "cell_type": "markdown",
   "metadata": {},
   "source": [
    "###  Does passenger group size affect the distance?"
   ]
  },
  {
   "cell_type": "markdown",
   "metadata": {},
   "source": [
    "-  Null Hypothesis 𝐻0 : passenger group size has no effect on the distance.\n",
    "\n",
    "-  Alternative Hypothesis 𝐻𝑎 : passenger group size has an effect on the distance."
   ]
  },
  {
   "cell_type": "code",
   "execution_count": 17,
   "metadata": {},
   "outputs": [
    {
     "data": {
      "image/png": "[encoded data removed]",
      "text/plain": [
       "<Figure size 432x288 with 1 Axes>"
      ]
     },
     "metadata": {
      "needs_background": "light"
     },
     "output_type": "display_data"
    }
   ],
   "source": [
    "sns.distplot(df[\"passenger_count\"].values, norm_hist=True)  \n",
    "plt.show()"
   ]
  },
  {
   "cell_type": "code",
   "execution_count": 18,
   "metadata": {},
   "outputs": [
    {
     "data": {
      "image/png": "[encoded data removed]",
      "text/plain": [
       "<Figure size 432x288 with 1 Axes>"
      ]
     },
     "metadata": {
      "needs_background": "light"
     },
     "output_type": "display_data"
    }
   ],
   "source": [
    "sns.distplot(df[\"distance\"].values, norm_hist=True)  \n",
    "plt.show()"
   ]
  },
  {
   "cell_type": "code",
   "execution_count": 19,
   "metadata": {
    "scrolled": true
   },
   "outputs": [],
   "source": [
    "one_pas= df[df[\"passenger_count\"] == 1][\"distance\"]\n",
    "two_pas= df[df[\"passenger_count\"] == 2][\"distance\"]\n",
    "three_pas= df[df[\"passenger_count\"] == 3][\"distance\"]\n",
    "four_pas= df[df[\"passenger_count\"] == 4][\"distance\"]\n",
    "five_pas= df[df[\"passenger_count\"] == 5][\"distance\"]\n",
    "six_pas =  df[df[\"passenger_count\"] == 6][\"distance\"]"
   ]
  },
  {
   "cell_type": "code",
   "execution_count": 20,
   "metadata": {
    "scrolled": true
   },
   "outputs": [
    {
     "data": {
      "image/png": "[encoded data removed]",
      "text/plain": [
       "<Figure size 720x360 with 1 Axes>"
      ]
     },
     "metadata": {
      "needs_background": "light"
     },
     "output_type": "display_data"
    }
   ],
   "source": [
    "fig, ax = plt.subplots(1,1, figsize=(10,5))\n",
    "\n",
    "sns.kdeplot(one_pas, shade=False, ax=ax, label=\"1 passenger\")\n",
    "sns.kdeplot(two_pas, shade=False, ax=ax, label=\"2 passengers\")\n",
    "sns.kdeplot(three_pas, shade=False, ax=ax, label=\"3 passengers\")\n",
    "sns.kdeplot(four_pas, shade=False, ax=ax, label=\"4 passengers\")\n",
    "sns.kdeplot(five_pas, shade=False, ax=ax, label=\"5 passengers\")\n",
    "sns.kdeplot(six_pas, shade=False, ax=ax, label=\"6 passengers\")\n",
    "\n",
    "plt.title(\"Score Distribution by Parent Education Level\")\n",
    "plt.show()"
   ]
  },
  {
   "cell_type": "code",
   "execution_count": 21,
   "metadata": {},
   "outputs": [
    {
     "data": {
      "text/plain": [
       "F_onewayResult(statistic=7.283096305101685, pvalue=7.86179334693054e-07)"
      ]
     },
     "execution_count": 21,
     "metadata": {},
     "output_type": "execute_result"
    }
   ],
   "source": [
    "stats.f_oneway(one_pas, two_pas, three_pas, four_pas, five_pas, six_pas)"
   ]
  },
  {
   "cell_type": "markdown",
   "metadata": {},
   "source": [
    "* When the significance level(α) is set to 0.05, pvalue is smaller than the significance value which means that null hypothesis is rejected.This result supports the alternative hypothesis which indicates that the passenger group size has an effect on the distance.\n",
    "                "
   ]
  },
  {
   "cell_type": "markdown",
   "metadata": {},
   "source": [
    "###  Do trip distances increase in weekends?"
   ]
  },
  {
   "cell_type": "markdown",
   "metadata": {},
   "source": [
    "-  Null Hypothesis 𝐻0 : the day of week has no effect on the distance.\n",
    "-  Alternative Hypothesis 𝐻𝑎 : the day of week has an effect on the distance."
   ]
  },
  {
   "cell_type": "code",
   "execution_count": 22,
   "metadata": {},
   "outputs": [],
   "source": [
    "df['pickup_datetime'] = pd.to_datetime(df['pickup_datetime'])\n",
    "\n",
    "df['day_of_week'] = df['pickup_datetime'].dt.day_name()"
   ]
  },
  {
   "cell_type": "code",
   "execution_count": 23,
   "metadata": {},
   "outputs": [],
   "source": [
    "def day_found(day):\n",
    "\n",
    "    if day == \"Saturday\" or day == \"Sunday\":\n",
    "        return \"weekend\"\n",
    "    \n",
    "    else:\n",
    "        return \"weekday\"\n",
    "\n",
    "df[\"day_type\"] = df[\"day_of_week\"].apply(day_found)  \n",
    "    \n"
   ]
  },
  {
   "cell_type": "code",
   "execution_count": 24,
   "metadata": {},
   "outputs": [],
   "source": [
    "weekday = df[df[\"day_type\"] == \"weekday\"][\"distance\"]  \n",
    "weekend = df[df[\"day_type\"] == \"weekend\"][\"distance\"]      "
   ]
  },
  {
   "cell_type": "code",
   "execution_count": 25,
   "metadata": {},
   "outputs": [
    {
     "data": {
      "image/png": "[encoded data removed]",
      "text/plain": [
       "<Figure size 1008x360 with 3 Axes>"
      ]
     },
     "metadata": {
      "needs_background": "light"
     },
     "output_type": "display_data"
    }
   ],
   "source": [
    "fig, ax = plt.subplots(1, 3, figsize=(14,5))  # a figure with 1 row and 3 columns\n",
    "                                              # ax variable stores a list with 3 elements\n",
    "                                              # each element in ax correspons to chart\n",
    "        \n",
    "weekday.plot(kind=\"hist\", ax=ax[0], bins=40, label=\"weekday\", color=\"c\")\n",
    "ax[0].set_title(\"Week day\")\n",
    "\n",
    "weekend.plot(kind=\"hist\", ax=ax[1], bins=40, label=\"weekend\", color=\"m\")\n",
    "ax[1].set_title(\"Weekend\")\n",
    "\n",
    "sns.kdeplot(weekday, shade=True, label=\"week days\", ax=ax[2], color=\"c\")\n",
    "sns.kdeplot(weekend, shade=True, label=\"weekends\", ax=ax[2], color=\"m\")\n",
    "ax[2].set_title(\"Week Days vs. Weekend\")\n",
    "\n",
    "plt.suptitle(\"Distance Distributions\")\n",
    "plt.show()"
   ]
  },
  {
   "cell_type": "code",
   "execution_count": 26,
   "metadata": {},
   "outputs": [
    {
     "data": {
      "text/plain": [
       "Ttest_indResult(statistic=5.604877366928616, pvalue=2.0924144330692153e-08)"
      ]
     },
     "execution_count": 26,
     "metadata": {},
     "output_type": "execute_result"
    }
   ],
   "source": [
    "stats.ttest_ind(weekend ,weekday , equal_var=False)"
   ]
  },
  {
   "cell_type": "markdown",
   "metadata": {},
   "source": [
    "* Since the significance level(α) is set to 0.05, pvalue is smaller than the significance value which means that null hypothesis is rejected.This result supports the alternative hypothesis which indicates that the day of weeks have an effect on the distance.."
   ]
  }
 ],
 "metadata": {
  "kernelspec": {
   "display_name": "Python 3",
   "language": "python",
   "name": "python3"
  },
  "language_info": {
   "codemirror_mode": {
    "name": "ipython",
    "version": 3
   },
   "file_extension": ".py",
   "mimetype": "text/x-python",
   "name": "python",
   "nbconvert_exporter": "python",
   "pygments_lexer": "ipython3",
   "version": "3.7.1"
  }
 },
 "nbformat": 4,
 "nbformat_minor": 2
}
